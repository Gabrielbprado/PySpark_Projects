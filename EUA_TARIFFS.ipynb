{
 "cells": [
  {
   "metadata": {},
   "cell_type": "markdown",
   "source": [
    "# Impacto das Tarifas Americanas nas Economias Parceiras\n",
    "\n",
    "## 🚀 Projeto: \"Impacto das Tarifas Americanas nas Economias Parceiras\"\n",
    "\n",
    "### 🎯 Objetivo:\n",
    "O objetivo deste projeto é analisar o impacto das tarifas impostas pelos EUA em seus parceiros comerciais, e como esses impactos afetam a balança comercial (déficit/superávit) e a população dos países. Utilizando PySpark, vamos calcular a relação entre as tarifas, a população e a economia de cada país, e classificar os países em categorias de risco econômico.\n",
    "\n",
    "### ✅ O que será implementado:\n",
    "\n",
    "1. **Calcular o \"Impacto Tarifa/População\"**\n",
    "Vamos adicionar uma coluna ao nosso conjunto de dados que mostre o impacto das tarifas em relação à população de cada país. Esse cálculo nos ajuda a entender se países menores estão sendo mais impactados proporcionalmente pelas tarifas dos EUA.\n",
    "\n",
    "```python\n",
    "from pyspark.sql.functions import col\n",
    "```\n",
    "\n",
    "# Calculando o impacto da tarifa sobre a população\n",
    "```python\n",
    "df = df.withColumn(\"Tariff Impact\", col(\"Trump Tariffs Alleged\") / col(\"Population\"))\n",
    "```\n",
    "Classificar países em categorias de risco econômico Com base na análise do déficit/superávit da balança comercial dos EUA e o nível de tarifas impostas aos países, vamos classificar os países em diferentes categorias de risco econômico. Os países serão classificados como \"High Risk\" (alto risco), \"Medium Risk\" (médio risco) ou \"Low Risk\" (baixo risco).\n",
    "\n",
    "# Classificando os países de acordo com o risco econômico\n",
    "\n",
    "```python\n",
    "df = df.withColumn(\"Risk Category\", when(\n",
    "    (col(\"US 2024 Deficit\") < 0) & (col(\"Trump Tariffs Alleged\") > 30), \"High Risk\"\n",
    ").when(\n",
    "    (col(\"US 2024 Deficit\") < 0), \"Medium Risk\"\n",
    ").otherwise(\"Low Risk\"))\n",
    "```\n",
    "🔧 Como executar:\n",
    "Pré-requisitos:\n",
    "\n",
    "Ter o PySpark instalado e configurado.\n",
    "\n",
    "Dados de tarifas dos EUA, déficit comercial e população dos países disponivel em Data/Csv/TariffCalculationsplusPopulation.csv.\n",
    "ou no link https://www.kaggle.com/datasets/danielcalvoglez/us-tariffs-2025\n",
    "\n",
    "Passos para execução:\n",
    "\n",
    "Carregue esse Notebook em sua plataforma\n",
    ". Pycharm, Databricks, Jupyter....\n",
    "\n",
    "Execute a análise e visualize os resultados.\n",
    "\n",
    "📊 Resultados Esperados:\n",
    "Após rodar o código, você terá um DataFrame com informações sobre:\n",
    "\n",
    "O impacto das tarifas sobre a população de cada país.\n",
    "\n",
    "A classificação de risco econômico de cada país, com base no déficit comercial e nas tarifas impostas.\n",
    "\n",
    "🔄 Possíveis Expansões:\n",
    "Adicionar mais dados econômicos, como PIB, exportações e importações.\n",
    "\n",
    "Implementar visualizações para melhor entender os impactos econômicos.\n",
    "\n",
    "Analisar como as respostas dos países (ex: retaliações tarifárias) afetam as categorias de risco.\n"
   ],
   "id": "8d3297e44e4522a8"
  },
  {
   "metadata": {
    "ExecuteTime": {
     "end_time": "2025-04-16T12:09:46.695403Z",
     "start_time": "2025-04-16T12:09:46.686169Z"
    }
   },
   "cell_type": "code",
   "source": [
    "from pyspark.sql import SparkSession\n",
    "from pyspark.sql.functions import *\n",
    "from pyspark.sql.functions import when\n",
    "from pyspark.sql.functions import sum as _sum"
   ],
   "id": "a23875add6b29a",
   "outputs": [],
   "execution_count": 42
  },
  {
   "metadata": {
    "ExecuteTime": {
     "end_time": "2025-04-16T12:38:45.508624Z",
     "start_time": "2025-04-16T12:38:45.503685Z"
    }
   },
   "cell_type": "code",
   "source": "spark = SparkSession.builder.appName(\"Spark\").getOrCreate()",
   "id": "39ee16cde1a72a3d",
   "outputs": [],
   "execution_count": 66
  },
  {
   "metadata": {},
   "cell_type": "markdown",
   "source": "",
   "id": "dd47e77e115f648d"
  },
  {
   "metadata": {
    "ExecuteTime": {
     "end_time": "2025-04-16T11:52:15.416299Z",
     "start_time": "2025-04-16T11:52:14.663235Z"
    }
   },
   "cell_type": "code",
   "outputs": [
    {
     "name": "stdout",
     "output_type": "stream",
     "text": [
      "+-----------+---------------+---------------+-------------------------------+---------------------+--------------+----------+\n",
      "|    Country|US 2024 Deficit|US 2024 Exports|US 2024 Imports (Customs Basis)|Trump Tariffs Alleged|Trump Response|Population|\n",
      "+-----------+---------------+---------------+-------------------------------+---------------------+--------------+----------+\n",
      "|Afghanistan|          -11.1|           11.4|                           22.6|                  49%|           25%|  41454761|\n",
      "|    Albania|           13.4|          141.7|                          128.3|                  10%|           10%|   2745972|\n",
      "|    Algeria|      -1,447.10|       1,014.50|                       2,461.60|                  59%|           29%|  46164219|\n",
      "|    Andorra|            1.5|            4.9|                            3.4|                  10%|           10%|     80856|\n",
      "|     Angola|      -1,186.90|          682.4|                       1,869.20|                  63%|           32%|  36749906|\n",
      "|   Anguilla|           71.3|           72.5|                            1.2|                  10%|           10%|      NULL|\n",
      "+-----------+---------------+---------------+-------------------------------+---------------------+--------------+----------+\n",
      "only showing top 6 rows\n",
      "\n"
     ]
    }
   ],
   "execution_count": 15,
   "source": [
    "read_options = {\n",
    "    \"header\": True,\n",
    "    \"sep\": \";\",\n",
    "    \"inferSchema\": True,\n",
    "}\n",
    "\n",
    "df1 = spark.read.csv(\"./Data/csv/TariffCalculationsplusPopulation.csv\",**read_options)\n",
    "df1.show(6)\n"
   ],
   "id": "966f5b0f7c5c6866"
  },
  {
   "metadata": {
    "ExecuteTime": {
     "end_time": "2025-04-16T11:52:15.426574Z",
     "start_time": "2025-04-16T11:52:15.423602Z"
    }
   },
   "cell_type": "code",
   "outputs": [
    {
     "name": "stdout",
     "output_type": "stream",
     "text": [
      "root\n",
      " |-- Country: string (nullable = true)\n",
      " |-- US 2024 Deficit: string (nullable = true)\n",
      " |-- US 2024 Exports: string (nullable = true)\n",
      " |-- US 2024 Imports (Customs Basis): string (nullable = true)\n",
      " |-- Trump Tariffs Alleged: string (nullable = true)\n",
      " |-- Trump Response: string (nullable = true)\n",
      " |-- Population: integer (nullable = true)\n",
      "\n"
     ]
    }
   ],
   "execution_count": 16,
   "source": "df1.printSchema()",
   "id": "7f0f8f69502fb5ae"
  },
  {
   "metadata": {
    "ExecuteTime": {
     "end_time": "2025-04-16T11:52:15.757713Z",
     "start_time": "2025-04-16T11:52:15.498544Z"
    }
   },
   "cell_type": "code",
   "outputs": [
    {
     "name": "stdout",
     "output_type": "stream",
     "text": [
      "+-------------------+---------------+---------------+-------------------------------+---------------------+--------------+----------+\n",
      "|            Country|US 2024 Deficit|US 2024 Exports|US 2024 Imports (Customs Basis)|Trump Tariffs Alleged|Trump Response|Population|\n",
      "+-------------------+---------------+---------------+-------------------------------+---------------------+--------------+----------+\n",
      "|        Afghanistan|          -11.1|           11.4|                           22.6|                  49%|           25%|  41454761|\n",
      "|            Albania|           13.4|          141.7|                          128.3|                  10%|           10%|   2745972|\n",
      "|            Algeria|        -1447.1|         1014.5|                         2461.6|                  59%|           29%|  46164219|\n",
      "|            Andorra|            1.5|            4.9|                            3.4|                  10%|           10%|     80856|\n",
      "|             Angola|        -1186.9|          682.4|                         1869.2|                  63%|           32%|  36749906|\n",
      "|Antigua and Barbuda|          550.0|          573.8|                           23.8|                  10%|           10%|     93316|\n",
      "|          Argentina|         2078.8|         9171.0|                         7092.2|                  10%|           10%|  45538401|\n",
      "|            Armenia|           39.2|          160.8|                          121.6|                  10%|           10%|   2990900|\n",
      "|              Aruba|          714.8|          725.5|                           10.7|                  10%|           10%|    107359|\n",
      "|         Australia*|        17907.8|        34593.3|                        16685.5|                  10%|           10%|  26658948|\n",
      "|         Azerbaijan|           97.3|          255.1|                          157.8|                  10%|           10%|  10153958|\n",
      "|            Bahamas|         3847.4|         5639.7|                         1792.4|                  10%|           10%|    399440|\n",
      "|           Bahrain*|          441.9|         1646.2|                         1204.3|                  10%|           10%|   1577059|\n",
      "|         Bangladesh|        -6151.8|         2214.0|                         8365.8|                  74%|           37%| 171466990|\n",
      "|           Barbados|          724.0|          772.6|                           48.6|                  10%|           10%|    282336|\n",
      "|            Belarus|           -9.4|           10.6|                           20.0|                  47%|           24%|   9178298|\n",
      "|             Belize|          509.3|          590.4|                           81.1|                  10%|           10%|    411106|\n",
      "|              Benin|          167.8|          216.4|                           48.6|                  10%|           10%|  14111034|\n",
      "|            Bermuda|          517.1|          540.4|                           23.3|                  10%|           10%|     64698|\n",
      "|             Bhutan|            0.1|            3.4|                            3.3|                  10%|           10%|    780914|\n",
      "+-------------------+---------------+---------------+-------------------------------+---------------------+--------------+----------+\n",
      "only showing top 20 rows\n",
      "\n"
     ]
    },
    {
     "data": {
      "text/plain": [
       "None"
      ]
     },
     "metadata": {},
     "output_type": "display_data"
    }
   ],
   "execution_count": 17,
   "source": [
    "df1_clean = (\n",
    "    df1\n",
    "    .filter(col(\"Population\").isNotNull()).filter(col(\"Trump Tariffs Alleged\").isNotNull())\n",
    ")\n",
    "\n",
    "df1_clean = df1_clean.withColumn(\"US 2024 Deficit\", regexp_replace(col(\"US 2024 Deficit\"),\",\",\"\").cast(\"float\")) \\\n",
    "             .withColumn(\"US 2024 Exports\",regexp_replace(col(\"US 2024 Exports\"),\",\",\"\").cast(\"float\")) \\\n",
    "             .withColumn(\"US 2024 Imports (Customs Basis)\",regexp_replace(col(\"US 2024 Imports (Customs Basis)\"), \",\", \"\").cast(\"float\"))\n",
    "display(df1_clean.show())"
   ],
   "id": "bb7d60be2a978558"
  },
  {
   "metadata": {
    "ExecuteTime": {
     "end_time": "2025-04-16T11:52:15.953545Z",
     "start_time": "2025-04-16T11:52:15.779473Z"
    }
   },
   "cell_type": "code",
   "source": [
    "df1_imports_in_decimal = df1_clean.withColumn(\"Trump Tariffs Alleged\", regexp_replace(col(\"Trump Tariffs Alleged\"),\"%\", \"\").cast(\"float\")/ 100)\n",
    "df1_imports_in_decimal.show(5)"
   ],
   "id": "6f23863dfe1c8ca5",
   "outputs": [
    {
     "name": "stdout",
     "output_type": "stream",
     "text": [
      "+-----------+---------------+---------------+-------------------------------+---------------------+--------------+----------+\n",
      "|    Country|US 2024 Deficit|US 2024 Exports|US 2024 Imports (Customs Basis)|Trump Tariffs Alleged|Trump Response|Population|\n",
      "+-----------+---------------+---------------+-------------------------------+---------------------+--------------+----------+\n",
      "|Afghanistan|          -11.1|           11.4|                           22.6|                 0.49|           25%|  41454761|\n",
      "|    Albania|           13.4|          141.7|                          128.3|                  0.1|           10%|   2745972|\n",
      "|    Algeria|        -1447.1|         1014.5|                         2461.6|                 0.59|           29%|  46164219|\n",
      "|    Andorra|            1.5|            4.9|                            3.4|                  0.1|           10%|     80856|\n",
      "|     Angola|        -1186.9|          682.4|                         1869.2|                 0.63|           32%|  36749906|\n",
      "+-----------+---------------+---------------+-------------------------------+---------------------+--------------+----------+\n",
      "only showing top 5 rows\n",
      "\n"
     ]
    }
   ],
   "execution_count": 18
  },
  {
   "metadata": {
    "ExecuteTime": {
     "end_time": "2025-04-16T11:52:16.168794Z",
     "start_time": "2025-04-16T11:52:15.984763Z"
    }
   },
   "cell_type": "code",
   "source": [
    "df_Tarrif_impact_column = df1_imports_in_decimal.withColumn(\"Tarrif Impact\",col(\"Trump Tariffs Alleged\") / col(\"Population\"))\n",
    "display(df_Tarrif_impact_column.show(6))"
   ],
   "id": "865299dbb823f778",
   "outputs": [
    {
     "name": "stdout",
     "output_type": "stream",
     "text": [
      "+-------------------+---------------+---------------+-------------------------------+---------------------+--------------+----------+--------------------+\n",
      "|            Country|US 2024 Deficit|US 2024 Exports|US 2024 Imports (Customs Basis)|Trump Tariffs Alleged|Trump Response|Population|       Tarrif Impact|\n",
      "+-------------------+---------------+---------------+-------------------------------+---------------------+--------------+----------+--------------------+\n",
      "|        Afghanistan|          -11.1|           11.4|                           22.6|                 0.49|           25%|  41454761|1.182011397918805...|\n",
      "|            Albania|           13.4|          141.7|                          128.3|                  0.1|           10%|   2745972|3.641697730348307E-8|\n",
      "|            Algeria|        -1447.1|         1014.5|                         2461.6|                 0.59|           29%|  46164219|1.278046098862844...|\n",
      "|            Andorra|            1.5|            4.9|                            3.4|                  0.1|           10%|     80856|1.236766597407737...|\n",
      "|             Angola|        -1186.9|          682.4|                         1869.2|                 0.63|           32%|  36749906| 1.71429009913658E-8|\n",
      "|Antigua and Barbuda|          550.0|          573.8|                           23.8|                  0.1|           10%|     93316|1.071627587980625...|\n",
      "+-------------------+---------------+---------------+-------------------------------+---------------------+--------------+----------+--------------------+\n",
      "only showing top 6 rows\n",
      "\n"
     ]
    },
    {
     "data": {
      "text/plain": [
       "None"
      ]
     },
     "metadata": {},
     "output_type": "display_data"
    }
   ],
   "execution_count": 19
  },
  {
   "metadata": {
    "ExecuteTime": {
     "end_time": "2025-04-16T12:56:45.130386Z",
     "start_time": "2025-04-16T12:56:45.069959Z"
    }
   },
   "cell_type": "code",
   "source": [
    "df1_risk_category = df_Tarrif_impact_column.withColumn(\"Risk Category\",when((col(\"US 2024 Deficit\") < 0 ) & (col(\"Trump Tariffs Alleged\") * 100 > 30), \"High Risk\").when((col(\"US 2024 Deficit\") < 0), \"Medium Risk\").otherwise(\"Low Risk\"))\n",
    "\n",
    "display(df1_risk_category.show(5))"
   ],
   "id": "f4343019220914bd",
   "outputs": [
    {
     "name": "stdout",
     "output_type": "stream",
     "text": [
      "+-----------+---------------+---------------+-------------------------------+---------------------+--------------+----------+--------------------+-------------+\n",
      "|    Country|US 2024 Deficit|US 2024 Exports|US 2024 Imports (Customs Basis)|Trump Tariffs Alleged|Trump Response|Population|       Tarrif Impact|Risk Category|\n",
      "+-----------+---------------+---------------+-------------------------------+---------------------+--------------+----------+--------------------+-------------+\n",
      "|Afghanistan|          -11.1|           11.4|                           22.6|                 0.49|           25%|  41454761|1.182011397918805...|    High Risk|\n",
      "|    Albania|           13.4|          141.7|                          128.3|                  0.1|           10%|   2745972|3.641697730348307E-8|     Low Risk|\n",
      "|    Algeria|        -1447.1|         1014.5|                         2461.6|                 0.59|           29%|  46164219|1.278046098862844...|    High Risk|\n",
      "|    Andorra|            1.5|            4.9|                            3.4|                  0.1|           10%|     80856|1.236766597407737...|     Low Risk|\n",
      "|     Angola|        -1186.9|          682.4|                         1869.2|                 0.63|           32%|  36749906| 1.71429009913658E-8|    High Risk|\n",
      "+-----------+---------------+---------------+-------------------------------+---------------------+--------------+----------+--------------------+-------------+\n",
      "only showing top 5 rows\n",
      "\n"
     ]
    },
    {
     "data": {
      "text/plain": [
       "None"
      ]
     },
     "metadata": {},
     "output_type": "display_data"
    }
   ],
   "execution_count": 67
  },
  {
   "metadata": {
    "ExecuteTime": {
     "end_time": "2025-04-16T12:59:57.936556Z",
     "start_time": "2025-04-16T12:59:57.818202Z"
    }
   },
   "cell_type": "code",
   "source": [
    "savePath = \"./Data/csv/clean/Tariff\"\n",
    "df1_risk_category.write.mode(\"overwrite\").option(\"header\", True).csv(savePath)"
   ],
   "id": "a61d68797c89797a",
   "outputs": [],
   "execution_count": 70
  },
  {
   "metadata": {
    "ExecuteTime": {
     "end_time": "2025-04-16T12:07:36.847629Z",
     "start_time": "2025-04-16T12:07:36.723922Z"
    }
   },
   "cell_type": "code",
   "source": [
    "df1_High_Risk_category = df1_risk_category.select(\"Country\",\"Risk Category\",\"Population\").where(col(\"Risk Category\") == \"High Risk\")\n",
    "display(df1_High_Risk_category.show())"
   ],
   "id": "651cc4735f46cb5f",
   "outputs": [
    {
     "name": "stdout",
     "output_type": "stream",
     "text": [
      "+--------------------+-------------+----------+\n",
      "|             Country|Risk Category|Population|\n",
      "+--------------------+-------------+----------+\n",
      "|         Afghanistan|    High Risk|  41454761|\n",
      "|             Algeria|    High Risk|  46164219|\n",
      "|              Angola|    High Risk|  36749906|\n",
      "|          Bangladesh|    High Risk| 171466990|\n",
      "|             Belarus|    High Risk|   9178298|\n",
      "|Bosnia and Herzeg...|    High Risk|   3185073|\n",
      "|            Botswana|    High Risk|   2480244|\n",
      "|              Brunei|    High Risk|    458949|\n",
      "|            Cambodia|    High Risk|  17423880|\n",
      "|               China|    High Risk|1410710000|\n",
      "|       Cote d'Ivoire|    High Risk|  31165654|\n",
      "|      European Union|    High Risk| 448804042|\n",
      "|       Faroe Islands|    High Risk|     54482|\n",
      "|                Fiji|    High Risk|    924145|\n",
      "|              Guyana|    High Risk|    826353|\n",
      "|               India|    High Risk|1438069596|\n",
      "|           Indonesia|    High Risk| 281190067|\n",
      "|                Iraq|    High Risk|  45074049|\n",
      "|             Israel*|    High Risk|   9756600|\n",
      "|               Japan|    High Risk| 124516650|\n",
      "+--------------------+-------------+----------+\n",
      "only showing top 20 rows\n",
      "\n"
     ]
    },
    {
     "data": {
      "text/plain": [
       "None"
      ]
     },
     "metadata": {},
     "output_type": "display_data"
    }
   ],
   "execution_count": 33
  },
  {
   "metadata": {
    "ExecuteTime": {
     "end_time": "2025-04-16T12:10:45.089394Z",
     "start_time": "2025-04-16T12:10:44.975060Z"
    }
   },
   "cell_type": "code",
   "source": "df1_risk_category.groupBy(\"Risk Category\").agg(_sum(\"Population\").alias(\"Total Populations\")).show()",
   "id": "448120d011c6668c",
   "outputs": [
    {
     "name": "stdout",
     "output_type": "stream",
     "text": [
      "+-------------+-----------------+\n",
      "|Risk Category|Total Populations|\n",
      "+-------------+-----------------+\n",
      "|     Low Risk|       1542456975|\n",
      "|  Medium Risk|        574588954|\n",
      "|    High Risk|       5255849848|\n",
      "+-------------+-----------------+\n",
      "\n"
     ]
    }
   ],
   "execution_count": 46
  },
  {
   "metadata": {
    "ExecuteTime": {
     "end_time": "2025-04-16T12:34:38.512639Z",
     "start_time": "2025-04-16T12:34:38.329278Z"
    }
   },
   "cell_type": "code",
   "source": [
    "df1_high_exports =  df1_risk_category.filter((col(\"US 2024 Exports\") > 10000) & (col(\"Risk Category\") == \"High Risk\")).select(\"Country\",\"Risk Category\",\"Population\",\"Tarrif Impact\").orderBy(col(\"Tarrif Impact\"))\n",
    "display(df1_high_exports.show())"
   ],
   "id": "c8a80bf5cfb35860",
   "outputs": [
    {
     "name": "stdout",
     "output_type": "stream",
     "text": [
      "+--------------+-------------+----------+--------------------+\n",
      "|       Country|Risk Category|Population|       Tarrif Impact|\n",
      "+--------------+-------------+----------+--------------------+\n",
      "|         India|    High Risk|1438069596|3.615958514430618...|\n",
      "|         China|    High Risk|1410710000|4.749381517108406...|\n",
      "|European Union|    High Risk| 448804042|8.689761310126526...|\n",
      "|     Indonesia|    High Risk| 281190067|2.276040568673430...|\n",
      "|      Mexico**|    High Risk| 129739759|2.620630735101026...|\n",
      "|         Japan|    High Risk| 124516650|3.694285061475714...|\n",
      "|       Vietnam|    High Risk| 100352192|8.968413963493693E-9|\n",
      "|      Thailand|    High Risk|  71702435|1.004149998532127...|\n",
      "|      Malaysia|    High Risk|  35126298|1.338028846649311E-8|\n",
      "|       Israel*|    High Risk|   9756600|3.382325810220774E-8|\n",
      "|   Switzerland|    High Risk|   8888093| 6.86311450611509E-8|\n",
      "+--------------+-------------+----------+--------------------+\n",
      "\n"
     ]
    },
    {
     "data": {
      "text/plain": [
       "None"
      ]
     },
     "metadata": {},
     "output_type": "display_data"
    }
   ],
   "execution_count": 65
  },
  {
   "metadata": {},
   "cell_type": "code",
   "outputs": [],
   "execution_count": null,
   "source": "",
   "id": "71e0fb2114d0b418"
  }
 ],
 "metadata": {
  "kernelspec": {
   "display_name": "Python 3 (ipykernel)",
   "language": "python",
   "name": "python3"
  },
  "language_info": {
   "codemirror_mode": {
    "name": "ipython",
    "version": 3
   },
   "file_extension": ".py",
   "mimetype": "text/x-python",
   "name": "python",
   "nbconvert_exporter": "python",
   "pygments_lexer": "ipython3",
   "version": "3.12.3"
  }
 },
 "nbformat": 4,
 "nbformat_minor": 5
}
