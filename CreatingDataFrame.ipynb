{
 "cells": [
  {
   "metadata": {},
   "cell_type": "markdown",
   "source": [
    "# 📊 Creating DataFrame 1\n",
    "\n",
    "## 🔍 Exercise\n",
    "\n",
    "### 1️⃣ Create a DataFrame with the following data:\n",
    "\n",
    "```python\n",
    "# Dados para o DataFrame\n",
    "names = ['Ana', 'Carlos', 'Bruno']  # Nomes dos indivíduos\n",
    "ages = [23, 45, 36]                 # Idades em anos\n",
    "cities = ['SP', 'RJ', 'BH']         # Cidades de residência\n",
    "```\n",
    "\n",
    "### 2️⃣ Show the columns\n",
    "\n",
    "\n",
    "### 3️⃣ Add the new column called: `age_in_month`\n",
    "> *Transform age in years to months*\n",
    "\n",
    "### 4️⃣ Filter the data only for people over 30\n"
   ],
   "id": "3a15b7e012c51770"
  },
  {
   "metadata": {
    "collapsed": true,
    "ExecuteTime": {
     "end_time": "2025-04-16T00:29:21.121664Z",
     "start_time": "2025-04-16T00:29:21.119189Z"
    }
   },
   "cell_type": "code",
   "source": [
    "from pyspark.sql import SparkSession\n",
    "from pyspark.sql.functions import *\n",
    "from pyspark.sql.functions import when"
   ],
   "id": "initial_id",
   "outputs": [],
   "execution_count": 11
  },
  {
   "metadata": {
    "ExecuteTime": {
     "end_time": "2025-04-16T00:29:21.721601Z",
     "start_time": "2025-04-16T00:29:21.715111Z"
    }
   },
   "cell_type": "code",
   "source": "spark = SparkSession.builder.appName(\"Spark\").getOrCreate()",
   "id": "d0884c81c0eb23bb",
   "outputs": [],
   "execution_count": 12
  },
  {
   "metadata": {
    "ExecuteTime": {
     "end_time": "2025-04-16T00:29:22.221122Z",
     "start_time": "2025-04-16T00:29:22.218751Z"
    }
   },
   "cell_type": "code",
   "source": "data = [(\"Ana\",23,\"SP\"),(\"Carlos\",45,\"RJ\"),(\"Bruno\",36,\"BH\")]",
   "id": "cdc04fb08934d97f",
   "outputs": [],
   "execution_count": 13
  },
  {
   "metadata": {
    "ExecuteTime": {
     "end_time": "2025-04-16T00:29:23.254712Z",
     "start_time": "2025-04-16T00:29:22.954750Z"
    }
   },
   "cell_type": "code",
   "source": [
    "df = spark.createDataFrame(data)\n",
    "df.show()"
   ],
   "id": "c83da6cf2d625604",
   "outputs": [
    {
     "name": "stdout",
     "output_type": "stream",
     "text": [
      "+------+---+---+\n",
      "|    _1| _2| _3|\n",
      "+------+---+---+\n",
      "|   Ana| 23| SP|\n",
      "|Carlos| 45| RJ|\n",
      "| Bruno| 36| BH|\n",
      "+------+---+---+\n",
      "\n"
     ]
    }
   ],
   "execution_count": 14
  },
  {
   "metadata": {
    "ExecuteTime": {
     "end_time": "2025-04-16T00:29:23.723394Z",
     "start_time": "2025-04-16T00:29:23.429678Z"
    }
   },
   "cell_type": "code",
   "source": [
    "\n",
    "df = df.withColumnRenamed(\"_1\",\"Name\").withColumnRenamed(\"_2\",\"Age\").withColumnRenamed(\"_3\",\"City\")\n",
    "df.show()"
   ],
   "id": "8e41cf4465ed75f9",
   "outputs": [
    {
     "name": "stdout",
     "output_type": "stream",
     "text": [
      "+------+---+----+\n",
      "|  Name|Age|City|\n",
      "+------+---+----+\n",
      "|   Ana| 23|  SP|\n",
      "|Carlos| 45|  RJ|\n",
      "| Bruno| 36|  BH|\n",
      "+------+---+----+\n",
      "\n"
     ]
    }
   ],
   "execution_count": 15
  },
  {
   "metadata": {
    "ExecuteTime": {
     "end_time": "2025-04-16T00:29:24.608261Z",
     "start_time": "2025-04-16T00:29:24.605593Z"
    }
   },
   "cell_type": "code",
   "source": "df.printSchema()",
   "id": "1964634c4e70d0dc",
   "outputs": [
    {
     "name": "stdout",
     "output_type": "stream",
     "text": [
      "root\n",
      " |-- Name: string (nullable = true)\n",
      " |-- Age: long (nullable = true)\n",
      " |-- City: string (nullable = true)\n",
      "\n"
     ]
    }
   ],
   "execution_count": 16
  },
  {
   "metadata": {
    "ExecuteTime": {
     "end_time": "2025-04-16T00:29:25.389141Z",
     "start_time": "2025-04-16T00:29:25.363427Z"
    }
   },
   "cell_type": "code",
   "source": [
    "month = 12\n",
    "df = df.withColumn(\"age_in_month\", col(\"Age\") * month)"
   ],
   "id": "93b79e8eb8624061",
   "outputs": [],
   "execution_count": 17
  },
  {
   "metadata": {
    "ExecuteTime": {
     "end_time": "2025-04-16T00:29:26.487661Z",
     "start_time": "2025-04-16T00:29:26.142835Z"
    }
   },
   "cell_type": "code",
   "source": [
    "df = df.select(\"Name\", \"Age\",\"age_in_month\", \"City\")\n",
    "display(df.show())"
   ],
   "id": "3daa2bc963193437",
   "outputs": [
    {
     "name": "stdout",
     "output_type": "stream",
     "text": [
      "+------+---+------------+----+\n",
      "|  Name|Age|age_in_month|City|\n",
      "+------+---+------------+----+\n",
      "|   Ana| 23|         276|  SP|\n",
      "|Carlos| 45|         540|  RJ|\n",
      "| Bruno| 36|         432|  BH|\n",
      "+------+---+------------+----+\n",
      "\n"
     ]
    },
    {
     "data": {
      "text/plain": [
       "None"
      ]
     },
     "metadata": {},
     "output_type": "display_data"
    }
   ],
   "execution_count": 18
  },
  {
   "metadata": {
    "ExecuteTime": {
     "end_time": "2025-04-16T00:29:27.528112Z",
     "start_time": "2025-04-16T00:29:27.172499Z"
    }
   },
   "cell_type": "code",
   "source": [
    "age_filter_than_30 = df.filter(col(\"Age\") > 30)\n",
    "age_filter_than_30.show()"
   ],
   "id": "893a7e61d19a596d",
   "outputs": [
    {
     "name": "stdout",
     "output_type": "stream",
     "text": [
      "+------+---+------------+----+\n",
      "|  Name|Age|age_in_month|City|\n",
      "+------+---+------------+----+\n",
      "|Carlos| 45|         540|  RJ|\n",
      "| Bruno| 36|         432|  BH|\n",
      "+------+---+------------+----+\n",
      "\n"
     ]
    }
   ],
   "execution_count": 19
  },
  {
   "metadata": {},
   "cell_type": "code",
   "outputs": [],
   "execution_count": null,
   "source": "",
   "id": "c1ac05a09f054fae"
  }
 ],
 "metadata": {
  "kernelspec": {
   "display_name": "Python 3",
   "language": "python",
   "name": "python3"
  },
  "language_info": {
   "codemirror_mode": {
    "name": "ipython",
    "version": 2
   },
   "file_extension": ".py",
   "mimetype": "text/x-python",
   "name": "python",
   "nbconvert_exporter": "python",
   "pygments_lexer": "ipython2",
   "version": "2.7.6"
  }
 },
 "nbformat": 4,
 "nbformat_minor": 5
}
