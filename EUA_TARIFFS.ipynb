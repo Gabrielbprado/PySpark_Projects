{
 "cells": [
  {
   "metadata": {},
   "cell_type": "markdown",
   "source": [
    "# Impacto das Tarifas Americanas nas Economias Parceiras\n",
    "\n",
    "## 🚀 Projeto: \"Impacto das Tarifas Americanas nas Economias Parceiras\"\n",
    "\n",
    "### 🎯 Objetivo:\n",
    "O objetivo deste projeto é analisar o impacto das tarifas impostas pelos EUA em seus parceiros comerciais, e como esses impactos afetam a balança comercial (déficit/superávit) e a população dos países. Utilizando PySpark, vamos calcular a relação entre as tarifas, a população e a economia de cada país, e classificar os países em categorias de risco econômico.\n",
    "\n",
    "### ✅ O que será implementado:\n",
    "\n",
    "1. **Calcular o \"Impacto Tarifa/População\"**\n",
    "Vamos adicionar uma coluna ao nosso conjunto de dados que mostre o impacto das tarifas em relação à população de cada país. Esse cálculo nos ajuda a entender se países menores estão sendo mais impactados proporcionalmente pelas tarifas dos EUA.\n",
    "\n",
    "```python\n",
    "from pyspark.sql.functions import col\n",
    "```\n",
    "\n",
    "# Calculando o impacto da tarifa sobre a população\n",
    "```python\n",
    "df = df.withColumn(\"Tariff Impact\", col(\"Trump Tariffs Alleged\") / col(\"Population\"))\n",
    "```\n",
    "Classificar países em categorias de risco econômico Com base na análise do déficit/superávit da balança comercial dos EUA e o nível de tarifas impostas aos países, vamos classificar os países em diferentes categorias de risco econômico. Os países serão classificados como \"High Risk\" (alto risco), \"Medium Risk\" (médio risco) ou \"Low Risk\" (baixo risco).\n",
    "\n",
    "# Classificando os países de acordo com o risco econômico\n",
    "\n",
    "```python\n",
    "df = df.withColumn(\"Risk Category\", when(\n",
    "    (col(\"US 2024 Deficit\") < 0) & (col(\"Trump Tariffs Alleged\") > 30), \"High Risk\"\n",
    ").when(\n",
    "    (col(\"US 2024 Deficit\") < 0), \"Medium Risk\"\n",
    ").otherwise(\"Low Risk\"))\n",
    "```\n",
    "🔧 Como executar:\n",
    "Pré-requisitos:\n",
    "\n",
    "Ter o PySpark instalado e configurado.\n",
    "\n",
    "Dados de tarifas dos EUA, déficit comercial e população dos países disponivel em Data/Csv/TariffCalculationsplusPopulation.csv.\n",
    "ou no link https://www.kaggle.com/datasets/danielcalvoglez/us-tariffs-2025\n",
    "\n",
    "Passos para execução:\n",
    "\n",
    "Carregue esse Notebook em sua plataforma\n",
    ". Pycharm, Databricks, Jupyter....\n",
    "\n",
    "Execute a análise e visualize os resultados.\n",
    "\n",
    "📊 Resultados Esperados:\n",
    "Após rodar o código, você terá um DataFrame com informações sobre:\n",
    "\n",
    "O impacto das tarifas sobre a população de cada país.\n",
    "\n",
    "A classificação de risco econômico de cada país, com base no déficit comercial e nas tarifas impostas.\n",
    "\n",
    "🔄 Possíveis Expansões:\n",
    "Adicionar mais dados econômicos, como PIB, exportações e importações.\n",
    "\n",
    "Implementar visualizações para melhor entender os impactos econômicos.\n",
    "\n",
    "Analisar como as respostas dos países (ex: retaliações tarifárias) afetam as categorias de risco.\n"
   ],
   "id": "8d3297e44e4522a8"
  },
  {
   "metadata": {
    "ExecuteTime": {
     "end_time": "2025-04-16T00:23:40.621604Z",
     "start_time": "2025-04-16T00:23:40.618133Z"
    }
   },
   "cell_type": "code",
   "source": [
    "from pyspark.sql import SparkSession\n",
    "from pyspark.sql.functions import *\n",
    "from pyspark.sql.functions import when"
   ],
   "id": "edbb3ff1aaa0c4a5",
   "outputs": [],
   "execution_count": 117
  },
  {
   "metadata": {
    "ExecuteTime": {
     "end_time": "2025-04-15T22:42:17.550922Z",
     "start_time": "2025-04-15T22:42:17.538861Z"
    }
   },
   "cell_type": "code",
   "outputs": [],
   "execution_count": 42,
   "source": "spark = SparkSession.builder.appName(\"Spark\").getOrCreate()",
   "id": "39ee16cde1a72a3d"
  },
  {
   "metadata": {
    "collapsed": true,
    "jupyter": {
     "outputs_hidden": true
    },
    "ExecuteTime": {
     "end_time": "2025-04-15T22:42:17.596320Z",
     "start_time": "2025-04-15T22:42:17.591743Z"
    }
   },
   "cell_type": "code",
   "outputs": [],
   "execution_count": 43,
   "source": "data = [(\"Ana\",23,\"SP\"),(\"Carlos\",45,\"RJ\"),(\"Bruno\",36,\"BH\")]",
   "id": "initial_id"
  },
  {
   "metadata": {
    "ExecuteTime": {
     "end_time": "2025-04-15T22:42:17.980410Z",
     "start_time": "2025-04-15T22:42:17.642236Z"
    }
   },
   "cell_type": "code",
   "outputs": [
    {
     "name": "stdout",
     "output_type": "stream",
     "text": [
      "+------+---+---+\n",
      "|    _1| _2| _3|\n",
      "+------+---+---+\n",
      "|   Ana| 23| SP|\n",
      "|Carlos| 45| RJ|\n",
      "| Bruno| 36| BH|\n",
      "+------+---+---+\n",
      "\n"
     ]
    }
   ],
   "execution_count": 44,
   "source": [
    "df = spark.createDataFrame(data)\n",
    "df.show()"
   ],
   "id": "f5ef743887d900bc"
  },
  {
   "metadata": {
    "ExecuteTime": {
     "end_time": "2025-04-15T22:42:18.267151Z",
     "start_time": "2025-04-15T22:42:17.988281Z"
    }
   },
   "cell_type": "code",
   "outputs": [
    {
     "name": "stdout",
     "output_type": "stream",
     "text": [
      "+------+---+----+\n",
      "|  Name|Age|City|\n",
      "+------+---+----+\n",
      "|   Ana| 23|  SP|\n",
      "|Carlos| 45|  RJ|\n",
      "| Bruno| 36|  BH|\n",
      "+------+---+----+\n",
      "\n"
     ]
    }
   ],
   "execution_count": 45,
   "source": [
    "\n",
    "df = df.withColumnRenamed(\"_1\",\"Name\").withColumnRenamed(\"_2\",\"Age\").withColumnRenamed(\"_3\",\"City\")\n",
    "df.show()"
   ],
   "id": "a10aaba952075435"
  },
  {
   "metadata": {
    "ExecuteTime": {
     "end_time": "2025-04-15T22:42:18.289109Z",
     "start_time": "2025-04-15T22:42:18.286128Z"
    }
   },
   "cell_type": "code",
   "outputs": [
    {
     "name": "stdout",
     "output_type": "stream",
     "text": [
      "root\n",
      " |-- Name: string (nullable = true)\n",
      " |-- Age: long (nullable = true)\n",
      " |-- City: string (nullable = true)\n",
      "\n"
     ]
    }
   ],
   "execution_count": 46,
   "source": "df.printSchema()",
   "id": "ea394220382f606d"
  },
  {
   "metadata": {
    "ExecuteTime": {
     "end_time": "2025-04-15T22:46:00.122019Z",
     "start_time": "2025-04-15T22:46:00.113495Z"
    }
   },
   "cell_type": "code",
   "outputs": [],
   "execution_count": 48,
   "source": [
    "month = 12\n",
    "df = df.withColumn(\"age_in_month\", col(\"Age\") * month)"
   ],
   "id": "ec95b868fdabc53c"
  },
  {
   "metadata": {
    "ExecuteTime": {
     "end_time": "2025-04-15T22:47:43.218401Z",
     "start_time": "2025-04-15T22:47:42.876426Z"
    }
   },
   "cell_type": "code",
   "outputs": [
    {
     "name": "stdout",
     "output_type": "stream",
     "text": [
      "+------+---+------------+----+\n",
      "|  Name|Age|age_in_month|City|\n",
      "+------+---+------------+----+\n",
      "|   Ana| 23|         276|  SP|\n",
      "|Carlos| 45|         540|  RJ|\n",
      "| Bruno| 36|         432|  BH|\n",
      "+------+---+------------+----+\n",
      "\n"
     ]
    },
    {
     "data": {
      "text/plain": [
       "None"
      ]
     },
     "metadata": {},
     "output_type": "display_data"
    }
   ],
   "execution_count": 51,
   "source": [
    "df = df.select(\"Name\", \"Age\",\"age_in_month\", \"City\")\n",
    "display(df.show())"
   ],
   "id": "fcbeb34d3d4e3e9a"
  },
  {
   "metadata": {
    "ExecuteTime": {
     "end_time": "2025-04-15T22:47:47.978259Z",
     "start_time": "2025-04-15T22:47:47.660062Z"
    }
   },
   "cell_type": "code",
   "outputs": [
    {
     "name": "stdout",
     "output_type": "stream",
     "text": [
      "+------+---+------------+----+\n",
      "|  Name|Age|age_in_month|City|\n",
      "+------+---+------------+----+\n",
      "|Carlos| 45|         540|  RJ|\n",
      "| Bruno| 36|         432|  BH|\n",
      "+------+---+------------+----+\n",
      "\n"
     ]
    }
   ],
   "execution_count": 52,
   "source": [
    "age_filter_than_30 = df.filter(col(\"Age\") > 30)\n",
    "age_filter_than_30.show()"
   ],
   "id": "f6c65f73-650c-4b58-b0f0-8faa0c1ecfeb"
  },
  {
   "metadata": {},
   "cell_type": "markdown",
   "source": "",
   "id": "dd47e77e115f648d"
  },
  {
   "metadata": {
    "ExecuteTime": {
     "end_time": "2025-04-16T00:11:41.632072Z",
     "start_time": "2025-04-16T00:11:41.482849Z"
    }
   },
   "cell_type": "code",
   "source": [
    "read_options = {\n",
    "    \"header\": True,\n",
    "    \"sep\": \";\",\n",
    "    \"inferSchema\": True,\n",
    "}\n",
    "\n",
    "df1 = spark.read.csv(\"./Data/csv/TariffCalculationsplusPopulation.csv\",**read_options)\n",
    "df1.show(6)\n"
   ],
   "id": "966f5b0f7c5c6866",
   "outputs": [
    {
     "name": "stdout",
     "output_type": "stream",
     "text": [
      "+-----------+---------------+---------------+-------------------------------+---------------------+--------------+----------+\n",
      "|    Country|US 2024 Deficit|US 2024 Exports|US 2024 Imports (Customs Basis)|Trump Tariffs Alleged|Trump Response|Population|\n",
      "+-----------+---------------+---------------+-------------------------------+---------------------+--------------+----------+\n",
      "|Afghanistan|          -11.1|           11.4|                           22.6|                  49%|           25%|  41454761|\n",
      "|    Albania|           13.4|          141.7|                          128.3|                  10%|           10%|   2745972|\n",
      "|    Algeria|      -1,447.10|       1,014.50|                       2,461.60|                  59%|           29%|  46164219|\n",
      "|    Andorra|            1.5|            4.9|                            3.4|                  10%|           10%|     80856|\n",
      "|     Angola|      -1,186.90|          682.4|                       1,869.20|                  63%|           32%|  36749906|\n",
      "|   Anguilla|           71.3|           72.5|                            1.2|                  10%|           10%|      NULL|\n",
      "+-----------+---------------+---------------+-------------------------------+---------------------+--------------+----------+\n",
      "only showing top 6 rows\n",
      "\n"
     ]
    }
   ],
   "execution_count": 112
  },
  {
   "metadata": {
    "ExecuteTime": {
     "end_time": "2025-04-16T00:11:45.582295Z",
     "start_time": "2025-04-16T00:11:45.576498Z"
    }
   },
   "cell_type": "code",
   "source": "df1.printSchema()",
   "id": "7f0f8f69502fb5ae",
   "outputs": [
    {
     "name": "stdout",
     "output_type": "stream",
     "text": [
      "root\n",
      " |-- Country: string (nullable = true)\n",
      " |-- US 2024 Deficit: string (nullable = true)\n",
      " |-- US 2024 Exports: string (nullable = true)\n",
      " |-- US 2024 Imports (Customs Basis): string (nullable = true)\n",
      " |-- Trump Tariffs Alleged: string (nullable = true)\n",
      " |-- Trump Response: string (nullable = true)\n",
      " |-- Population: integer (nullable = true)\n",
      "\n"
     ]
    }
   ],
   "execution_count": 113
  },
  {
   "metadata": {
    "ExecuteTime": {
     "end_time": "2025-04-16T00:19:12.806672Z",
     "start_time": "2025-04-16T00:19:12.727354Z"
    }
   },
   "cell_type": "code",
   "source": [
    "df1_clean = (\n",
    "    df1\n",
    "    .filter(col(\"Population\").isNotNull()).filter(col(\"Trump Tariffs Alleged\").isNotNull())\n",
    ")\n",
    "\n",
    "df1_clean = df1_clean.withColumn(\"US 2024 Deficit\", regexp_replace(col(\"US 2024 Deficit\"),\",\",\"\").cast(\"float\")) \\\n",
    "             .withColumn(\"US 2024 Exports\",regexp_replace(col(\"US 2024 Exports\"),\",\",\"\").cast(\"float\")) \\\n",
    "             .withColumn(\"US 2024 Imports (Customs Basis)\",regexp_replace(col(\"US 2024 Imports (Customs Basis)\"), \",\", \"\").cast(\"float\"))\n",
    "display(df1_clean.show())"
   ],
   "id": "bb7d60be2a978558",
   "outputs": [
    {
     "name": "stdout",
     "output_type": "stream",
     "text": [
      "+-------------------+---------------+---------------+-------------------------------+---------------------+--------------+----------+\n",
      "|            Country|US 2024 Deficit|US 2024 Exports|US 2024 Imports (Customs Basis)|Trump Tariffs Alleged|Trump Response|Population|\n",
      "+-------------------+---------------+---------------+-------------------------------+---------------------+--------------+----------+\n",
      "|        Afghanistan|          -11.1|           11.4|                           22.6|                  49%|           25%|  41454761|\n",
      "|            Albania|           13.4|          141.7|                          128.3|                  10%|           10%|   2745972|\n",
      "|            Algeria|        -1447.1|         1014.5|                         2461.6|                  59%|           29%|  46164219|\n",
      "|            Andorra|            1.5|            4.9|                            3.4|                  10%|           10%|     80856|\n",
      "|             Angola|        -1186.9|          682.4|                         1869.2|                  63%|           32%|  36749906|\n",
      "|Antigua and Barbuda|          550.0|          573.8|                           23.8|                  10%|           10%|     93316|\n",
      "|          Argentina|         2078.8|         9171.0|                         7092.2|                  10%|           10%|  45538401|\n",
      "|            Armenia|           39.2|          160.8|                          121.6|                  10%|           10%|   2990900|\n",
      "|              Aruba|          714.8|          725.5|                           10.7|                  10%|           10%|    107359|\n",
      "|         Australia*|        17907.8|        34593.3|                        16685.5|                  10%|           10%|  26658948|\n",
      "|         Azerbaijan|           97.3|          255.1|                          157.8|                  10%|           10%|  10153958|\n",
      "|            Bahamas|         3847.4|         5639.7|                         1792.4|                  10%|           10%|    399440|\n",
      "|           Bahrain*|          441.9|         1646.2|                         1204.3|                  10%|           10%|   1577059|\n",
      "|         Bangladesh|        -6151.8|         2214.0|                         8365.8|                  74%|           37%| 171466990|\n",
      "|           Barbados|          724.0|          772.6|                           48.6|                  10%|           10%|    282336|\n",
      "|            Belarus|           -9.4|           10.6|                           20.0|                  47%|           24%|   9178298|\n",
      "|             Belize|          509.3|          590.4|                           81.1|                  10%|           10%|    411106|\n",
      "|              Benin|          167.8|          216.4|                           48.6|                  10%|           10%|  14111034|\n",
      "|            Bermuda|          517.1|          540.4|                           23.3|                  10%|           10%|     64698|\n",
      "|             Bhutan|            0.1|            3.4|                            3.3|                  10%|           10%|    780914|\n",
      "+-------------------+---------------+---------------+-------------------------------+---------------------+--------------+----------+\n",
      "only showing top 20 rows\n",
      "\n"
     ]
    },
    {
     "data": {
      "text/plain": [
       "None"
      ]
     },
     "metadata": {},
     "output_type": "display_data"
    }
   ],
   "execution_count": 114
  },
  {
   "metadata": {
    "ExecuteTime": {
     "end_time": "2025-04-16T00:19:25.365816Z",
     "start_time": "2025-04-16T00:19:25.264176Z"
    }
   },
   "cell_type": "code",
   "source": [
    "df1_imports_in_decimal = df1_clean.withColumn(\"Trump Tariffs Alleged\", regexp_replace(col(\"Trump Tariffs Alleged\"),\"%\", \"\").cast(\"float\")/ 100)\n",
    "df1_imports_in_decimal.show(5)"
   ],
   "id": "6f23863dfe1c8ca5",
   "outputs": [
    {
     "name": "stdout",
     "output_type": "stream",
     "text": [
      "+-----------+---------------+---------------+-------------------------------+---------------------+--------------+----------+\n",
      "|    Country|US 2024 Deficit|US 2024 Exports|US 2024 Imports (Customs Basis)|Trump Tariffs Alleged|Trump Response|Population|\n",
      "+-----------+---------------+---------------+-------------------------------+---------------------+--------------+----------+\n",
      "|Afghanistan|          -11.1|           11.4|                           22.6|                 0.49|           25%|  41454761|\n",
      "|    Albania|           13.4|          141.7|                          128.3|                  0.1|           10%|   2745972|\n",
      "|    Algeria|        -1447.1|         1014.5|                         2461.6|                 0.59|           29%|  46164219|\n",
      "|    Andorra|            1.5|            4.9|                            3.4|                  0.1|           10%|     80856|\n",
      "|     Angola|        -1186.9|          682.4|                         1869.2|                 0.63|           32%|  36749906|\n",
      "+-----------+---------------+---------------+-------------------------------+---------------------+--------------+----------+\n",
      "only showing top 5 rows\n",
      "\n"
     ]
    }
   ],
   "execution_count": 115
  },
  {
   "metadata": {
    "ExecuteTime": {
     "end_time": "2025-04-16T00:19:35.241161Z",
     "start_time": "2025-04-16T00:19:35.144676Z"
    }
   },
   "cell_type": "code",
   "source": [
    "df_Tarrif_impact_column = df1_imports_in_decimal.withColumn(\"Tarrif Impact\",col(\"Trump Tariffs Alleged\") / col(\"Population\"))\n",
    "display(df_Tarrif_impact_column.show(6))"
   ],
   "id": "865299dbb823f778",
   "outputs": [
    {
     "name": "stdout",
     "output_type": "stream",
     "text": [
      "+-------------------+---------------+---------------+-------------------------------+---------------------+--------------+----------+--------------------+\n",
      "|            Country|US 2024 Deficit|US 2024 Exports|US 2024 Imports (Customs Basis)|Trump Tariffs Alleged|Trump Response|Population|       Tarrif Impact|\n",
      "+-------------------+---------------+---------------+-------------------------------+---------------------+--------------+----------+--------------------+\n",
      "|        Afghanistan|          -11.1|           11.4|                           22.6|                 0.49|           25%|  41454761|1.182011397918805...|\n",
      "|            Albania|           13.4|          141.7|                          128.3|                  0.1|           10%|   2745972|3.641697730348307E-8|\n",
      "|            Algeria|        -1447.1|         1014.5|                         2461.6|                 0.59|           29%|  46164219|1.278046098862844...|\n",
      "|            Andorra|            1.5|            4.9|                            3.4|                  0.1|           10%|     80856|1.236766597407737...|\n",
      "|             Angola|        -1186.9|          682.4|                         1869.2|                 0.63|           32%|  36749906| 1.71429009913658E-8|\n",
      "|Antigua and Barbuda|          550.0|          573.8|                           23.8|                  0.1|           10%|     93316|1.071627587980625...|\n",
      "+-------------------+---------------+---------------+-------------------------------+---------------------+--------------+----------+--------------------+\n",
      "only showing top 6 rows\n",
      "\n"
     ]
    },
    {
     "data": {
      "text/plain": [
       "None"
      ]
     },
     "metadata": {},
     "output_type": "display_data"
    }
   ],
   "execution_count": 116
  },
  {
   "metadata": {
    "ExecuteTime": {
     "end_time": "2025-04-16T00:25:25.918805Z",
     "start_time": "2025-04-16T00:25:25.802876Z"
    }
   },
   "cell_type": "code",
   "source": [
    "df1_risk_category = df_Tarrif_impact_column.withColumn(\"Risk Category\",when((col(\"US 2024 Deficit\") < 0 ) & (col(\"Trump Tariffs Alleged\") > 30), \"High Risk\").when((col(\"US 2024 Deficit\") < 0), \"Medium Risk\").otherwise(\"Low Risk\"))\n",
    "\n",
    "display(df1_risk_category.show(7))"
   ],
   "id": "f4343019220914bd",
   "outputs": [
    {
     "name": "stdout",
     "output_type": "stream",
     "text": [
      "+-------------------+---------------+---------------+-------------------------------+---------------------+--------------+----------+--------------------+-------------+\n",
      "|            Country|US 2024 Deficit|US 2024 Exports|US 2024 Imports (Customs Basis)|Trump Tariffs Alleged|Trump Response|Population|       Tarrif Impact|Risk Category|\n",
      "+-------------------+---------------+---------------+-------------------------------+---------------------+--------------+----------+--------------------+-------------+\n",
      "|        Afghanistan|          -11.1|           11.4|                           22.6|                 0.49|           25%|  41454761|1.182011397918805...|  Medium Risk|\n",
      "|            Albania|           13.4|          141.7|                          128.3|                  0.1|           10%|   2745972|3.641697730348307E-8|     Low Risk|\n",
      "|            Algeria|        -1447.1|         1014.5|                         2461.6|                 0.59|           29%|  46164219|1.278046098862844...|  Medium Risk|\n",
      "|            Andorra|            1.5|            4.9|                            3.4|                  0.1|           10%|     80856|1.236766597407737...|     Low Risk|\n",
      "|             Angola|        -1186.9|          682.4|                         1869.2|                 0.63|           32%|  36749906| 1.71429009913658E-8|  Medium Risk|\n",
      "|Antigua and Barbuda|          550.0|          573.8|                           23.8|                  0.1|           10%|     93316|1.071627587980625...|     Low Risk|\n",
      "|          Argentina|         2078.8|         9171.0|                         7092.2|                  0.1|           10%|  45538401|2.195948865222562...|     Low Risk|\n",
      "+-------------------+---------------+---------------+-------------------------------+---------------------+--------------+----------+--------------------+-------------+\n",
      "only showing top 7 rows\n",
      "\n"
     ]
    },
    {
     "data": {
      "text/plain": [
       "None"
      ]
     },
     "metadata": {},
     "output_type": "display_data"
    }
   ],
   "execution_count": 121
  }
 ],
 "metadata": {
  "kernelspec": {
   "display_name": "Python 3 (ipykernel)",
   "language": "python",
   "name": "python3"
  },
  "language_info": {
   "codemirror_mode": {
    "name": "ipython",
    "version": 3
   },
   "file_extension": ".py",
   "mimetype": "text/x-python",
   "name": "python",
   "nbconvert_exporter": "python",
   "pygments_lexer": "ipython3",
   "version": "3.12.3"
  }
 },
 "nbformat": 4,
 "nbformat_minor": 5
}
